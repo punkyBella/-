{
  "nbformat": 4,
  "nbformat_minor": 0,
  "metadata": {
    "colab": {
      "provenance": [],
      "toc_visible": true,
      "gpuType": "T4",
      "include_colab_link": true
    },
    "kernelspec": {
      "name": "python3",
      "display_name": "Python 3"
    },
    "language_info": {
      "name": "python"
    },
    "accelerator": "GPU"
  },
  "cells": [
    {
      "cell_type": "markdown",
      "metadata": {
        "id": "view-in-github",
        "colab_type": "text"
      },
      "source": [
        "<a href=\"https://colab.research.google.com/github/punkyBella/-/blob/master/Introduction_to_Pythorch.ipynb\" target=\"_parent\"><img src=\"https://colab.research.google.com/assets/colab-badge.svg\" alt=\"Open In Colab\"/></a>"
      ]
    },
    {
      "cell_type": "markdown",
      "source": [
        "<font size=6 weight='bold'>1st TC2 Summer School on Deep Learning on Graphs</font>\n",
        "\n",
        "<font size=6 weight='bold'>Introduction to PyTorch</font>\n",
        "\n",
        "<font size=5>\n",
        "Speaker: Luca Cosmo </font><font size=4>(luca.cosmo@unive.it)</font><br>\n",
        "<br><br>\n",
        "\n",
        "Part of the material of this notebook is adapted from the DLAI course at Sapienza University. [link](https://erodola.github.io/DLAI-s2-2023/)\n"
      ],
      "metadata": {
        "id": "2ivs5LuRC2zj"
      }
    },
    {
      "cell_type": "markdown",
      "source": [
        "![QR_Code_1693442039.png](data:image/png;base64,iVBORw0KGgoAAAANSUhEUgAAAPgAAAD4AQMAAAD7H7lIAAAABlBMVEX///8AAABVwtN+AAAACXBIWXMAAA7EAAAOxAGVKw4bAAAAzUlEQVRYhe2VUQ7DMAhDuf+lPTXYgXQ9AQ6TSMbjy7LTiFu3vAtZ63z+1sSEV8+9PrHgOY1EuQH48ZA4vlx3L85OdxyJceB6H+v3/X4O5bH3Ij7G4/kKRfqDBnn7Yz5XPJpMW6fpfI+pj54I2PD2MRA5BRzO6Qf0jBz6jeaAhmr/9pjPaQfq9Pp+zuZq0MEdH57xoEgVFg9ee2UUJw4wDYsuJrt4cPUE6MyDKx3kVAt+XLc1duN1MDM2XFuhYbsacCbiCAbqjZjOb91yrR8VgyZnRhP8+wAAAABJRU5ErkJggg==)\n",
        "\n",
        "<font size=6> Link to this Notebook: https://bit.ly/3YXfpUU </font>\n"
      ],
      "metadata": {
        "id": "a-TX79Gj_4LO"
      }
    },
    {
      "cell_type": "markdown",
      "metadata": {
        "id": "5fCEDCU_qrC0"
      },
      "source": [
        "## Colab and Jupyter Notebooks\n",
        "\n",
        "The tool we are using is called Colab, an environment to play with python notebooks directly in your web browser, made by Google. It is based on the famous Jupyter Notebook web interactive python shell, which you can install locally on your machine (e.g. through the conda package manager).\n",
        "\n",
        "If you never used Colab or Jupyter Notebook before, you may want to take a look at the official [Colab guide](https://colab.research.google.com/notebooks/welcome.ipynb).\n",
        "\n"
      ]
    },
    {
      "cell_type": "markdown",
      "source": [
        "### Getting started with Colab\n",
        "\n",
        "Colab, or \"Colaboratory\", allows you to write and execute Python in your browser, with\n",
        "- (Almost) Zero configuration required\n",
        "- Access to GPUs free of charge\n",
        "- Easy sharing"
      ],
      "metadata": {
        "id": "IYafT_OGiBAl"
      }
    },
    {
      "cell_type": "markdown",
      "metadata": {
        "id": "2fhs6GZ4qFMx"
      },
      "source": [
        "To execute the code in the above cell, select it with a click and then either press the play button to the left of the code, or use the keyboard shortcut \"Command/Ctrl+Enter\". To edit the code, just click the cell and start editing.\n",
        "\n",
        "Variables that you define in one cell can later be used in other cells.\n",
        "The code order does not depend on the order of cell in which it is defined, but on the order in which you execute them."
      ]
    },
    {
      "cell_type": "code",
      "source": [
        "#this will give an error if executed before the next two cells\n",
        "seconds_in_a_week = 7 * seconds_in_a_day\n",
        "seconds_in_a_week"
      ],
      "metadata": {
        "colab": {
          "base_uri": "https://localhost:8080/"
        },
        "id": "NO9wYHu1qrAs",
        "outputId": "ccd391f0-7326-419b-b686-8ad45efe96aa"
      },
      "execution_count": null,
      "outputs": [
        {
          "output_type": "execute_result",
          "data": {
            "text/plain": [
              "176400"
            ]
          },
          "metadata": {},
          "execution_count": 4
        }
      ]
    },
    {
      "cell_type": "code",
      "execution_count": null,
      "metadata": {
        "colab": {
          "base_uri": "https://localhost:8080/"
        },
        "id": "-gE-Ez1qtyIA",
        "outputId": "f91d223c-17d3-487e-c60f-b845f628f650"
      },
      "outputs": [
        {
          "output_type": "execute_result",
          "data": {
            "text/plain": [
              "3600"
            ]
          },
          "metadata": {},
          "execution_count": 2
        }
      ],
      "source": [
        "seconds_in_an_hour = 60*60\n",
        "seconds_in_an_hour"
      ]
    },
    {
      "cell_type": "code",
      "source": [
        "seconds_in_a_day = 7 * seconds_in_an_hour\n",
        "seconds_in_a_day"
      ],
      "metadata": {
        "colab": {
          "base_uri": "https://localhost:8080/"
        },
        "id": "Na-esx_RqXcz",
        "outputId": "095fa805-ca50-4f56-e894-051ef6527943"
      },
      "execution_count": null,
      "outputs": [
        {
          "output_type": "execute_result",
          "data": {
            "text/plain": [
              "25200"
            ]
          },
          "metadata": {},
          "execution_count": 3
        }
      ]
    },
    {
      "cell_type": "markdown",
      "metadata": {
        "id": "xsfPgLP9S0gA"
      },
      "source": [
        "## PyTorch Basics\n",
        "\n",
        "During the course we'll use and learn many parts of PyTorch API.\n",
        "You should also familiarize with the [PyTorch Documentation](https://pytorch.org/docs/stable/) as it will greatly assist you.\n",
        "\n",
        "\n"
      ]
    },
    {
      "cell_type": "markdown",
      "metadata": {
        "id": "MDJI_JVTPMRc"
      },
      "source": [
        "### Introduction\n",
        "\n",
        "Many Deep Learning frameworks have emerged for python. Arguably the most notable ones in 2023 are **PyTorch**, **TensorFlow** (with keras frontend) and **Jax**.\n",
        "We will use PyTorch, which is [the leading DL framework](https://thegradient.pub/state-of-ml-frameworks-2019-pytorch-dominates-research-tensorflow-dominates-industry/) for research and [continues to gain popularity](https://openai.com/blog/openai-pytorch/).\n",
        "\n",
        "The fundamental data structure of these frameworks is the tensor, which is more or less the same everywhere. Gaining a solid understanding of how tensors work is required in deep learning and will definitely come in handy in other areas.\n",
        "\n",
        "This tutorials will introduce you to tensors handling and operations between tensors."
      ]
    },
    {
      "cell_type": "code",
      "metadata": {
        "id": "SWHsmm2OTqZK",
        "colab": {
          "base_uri": "https://localhost:8080/",
          "height": 36
        },
        "outputId": "64466c84-b221-4d73-e6a3-5a57dd57b517"
      },
      "source": [
        "#In Colab pytorch is installed by default, have a look to www.pytorch.com if you want to install it on your system\n",
        "import torch\n",
        "torch.__version__"
      ],
      "execution_count": null,
      "outputs": [
        {
          "output_type": "execute_result",
          "data": {
            "text/plain": [
              "'2.0.1+cu118'"
            ],
            "application/vnd.google.colaboratory.intrinsic+json": {
              "type": "string"
            }
          },
          "metadata": {},
          "execution_count": 5
        }
      ]
    },
    {
      "cell_type": "markdown",
      "metadata": {
        "id": "7odUeGK8TmVh"
      },
      "source": [
        "### **PyTorch Tensor**\n",
        "\n",
        "The ``Tensor`` class is very similar to numpy's ``ndarray`` and provides most of its functionality.\n",
        "\n",
        "\n",
        "However, it also has two important distinctions:\n",
        "\n",
        "- Support for GPU computations.\n",
        "- Each tensor may store extra information needed to perform back propagation:\n",
        "  - The gradient tensor w.r.t. some variable (e.g. the loss)\n",
        "  - A node representing an operation in the computational graph that produced this tensor.\n",
        "\n",
        "\n",
        "Keep in mind:\n",
        "\n",
        "- Usually **tensor operations are not in-place**"
      ]
    },
    {
      "cell_type": "markdown",
      "source": [
        "##### Create a tensor"
      ],
      "metadata": {
        "id": "ydn4ggbFuSrc"
      }
    },
    {
      "cell_type": "code",
      "source": [
        "# Basic tensor creation from python lists\n",
        "z = torch.tensor([[1, 2, 3], [4, 5, 6]], dtype=torch.int32)\n",
        "print(z.shape)\n",
        "print(z.dtype)\n",
        "z"
      ],
      "metadata": {
        "colab": {
          "base_uri": "https://localhost:8080/"
        },
        "id": "gh3QFuP9tyhh",
        "outputId": "976183fa-de79-4565-a650-0e9145316695"
      },
      "execution_count": null,
      "outputs": [
        {
          "output_type": "stream",
          "name": "stdout",
          "text": [
            "torch.Size([2, 3])\n",
            "torch.int32\n"
          ]
        },
        {
          "output_type": "execute_result",
          "data": {
            "text/plain": [
              "tensor([[1, 2, 3],\n",
              "        [4, 5, 6]], dtype=torch.int32)"
            ]
          },
          "metadata": {},
          "execution_count": 6
        }
      ]
    },
    {
      "cell_type": "code",
      "source": [
        "# Some other tensor construction methods\n",
        "# Tensors may have an arbitrary number of dimensions (tensor rank)\n",
        "z = torch.zeros((3,5,2))\n",
        "print(z.shape)\n",
        "print(z.dtype)\n",
        "z"
      ],
      "metadata": {
        "colab": {
          "base_uri": "https://localhost:8080/"
        },
        "id": "Y-l-F4qTtyv8",
        "outputId": "520c0698-76ab-4bf5-bdb7-0820ba0a86ce"
      },
      "execution_count": null,
      "outputs": [
        {
          "output_type": "stream",
          "name": "stdout",
          "text": [
            "torch.Size([3, 5, 2])\n",
            "torch.float32\n"
          ]
        },
        {
          "output_type": "execute_result",
          "data": {
            "text/plain": [
              "tensor([[[0., 0.],\n",
              "         [0., 0.],\n",
              "         [0., 0.],\n",
              "         [0., 0.],\n",
              "         [0., 0.]],\n",
              "\n",
              "        [[0., 0.],\n",
              "         [0., 0.],\n",
              "         [0., 0.],\n",
              "         [0., 0.],\n",
              "         [0., 0.]],\n",
              "\n",
              "        [[0., 0.],\n",
              "         [0., 0.],\n",
              "         [0., 0.],\n",
              "         [0., 0.],\n",
              "         [0., 0.]]])"
            ]
          },
          "metadata": {},
          "execution_count": 7
        }
      ]
    },
    {
      "cell_type": "markdown",
      "source": [
        "#### Operations between tensors"
      ],
      "metadata": {
        "id": "7_G0nzuduXaZ"
      }
    },
    {
      "cell_type": "code",
      "source": [
        "a = torch.arange(24).reshape(4, 3, 2)\n",
        "b = torch.rand(6).reshape(3,2)*0.1\n",
        "display(a.shape)\n",
        "display(b.shape)\n",
        "\n",
        "#broadcasting: pytorch will try to match the dimensions of the two shapes by replicating data alogn dimensions of size 1\n",
        "c=a+b\n",
        "\n",
        "print(c.shape)\n",
        "c"
      ],
      "metadata": {
        "colab": {
          "base_uri": "https://localhost:8080/",
          "height": 329
        },
        "id": "jEj3l4NmuddD",
        "outputId": "c8d4e1aa-af14-4d2f-bbe4-3e65924302ed"
      },
      "execution_count": null,
      "outputs": [
        {
          "output_type": "display_data",
          "data": {
            "text/plain": [
              "torch.Size([4, 3, 2])"
            ]
          },
          "metadata": {}
        },
        {
          "output_type": "display_data",
          "data": {
            "text/plain": [
              "torch.Size([3, 2])"
            ]
          },
          "metadata": {}
        },
        {
          "output_type": "stream",
          "name": "stdout",
          "text": [
            "torch.Size([4, 3, 2])\n"
          ]
        },
        {
          "output_type": "execute_result",
          "data": {
            "text/plain": [
              "tensor([[[ 0.0438,  1.0873],\n",
              "         [ 2.0042,  3.0560],\n",
              "         [ 4.0634,  5.0796]],\n",
              "\n",
              "        [[ 6.0438,  7.0873],\n",
              "         [ 8.0042,  9.0560],\n",
              "         [10.0634, 11.0796]],\n",
              "\n",
              "        [[12.0438, 13.0873],\n",
              "         [14.0042, 15.0560],\n",
              "         [16.0634, 17.0796]],\n",
              "\n",
              "        [[18.0438, 19.0873],\n",
              "         [20.0042, 21.0560],\n",
              "         [22.0634, 23.0796]]])"
            ]
          },
          "metadata": {},
          "execution_count": 11
        }
      ]
    },
    {
      "cell_type": "code",
      "source": [
        "a = torch.arange(24).reshape(2, 3, 4).float() #casting to float32\n",
        "b = torch.randn(2,1,4)\n",
        "\n",
        "c = torch.randn(2, 4, 3)\n",
        "\n",
        "display( (a*b).shape ) #elemntwise operation\n",
        "display( (a@c).shape ) #matrix multiplication on the last two deimensions"
      ],
      "metadata": {
        "colab": {
          "base_uri": "https://localhost:8080/",
          "height": 52
        },
        "id": "KFEkn5E4v0R9",
        "outputId": "0a771a46-9577-41ba-abdd-06e6a89894f5"
      },
      "execution_count": null,
      "outputs": [
        {
          "output_type": "display_data",
          "data": {
            "text/plain": [
              "torch.Size([2, 3, 4])"
            ]
          },
          "metadata": {}
        },
        {
          "output_type": "display_data",
          "data": {
            "text/plain": [
              "torch.Size([2, 3, 3])"
            ]
          },
          "metadata": {}
        }
      ]
    },
    {
      "cell_type": "code",
      "source": [
        "#you can aggregate along specific dimensions\n",
        "display(a.sum(-1))\n",
        "torch.sum(a,dim=0)"
      ],
      "metadata": {
        "colab": {
          "base_uri": "https://localhost:8080/",
          "height": 104
        },
        "id": "ABHGc62RxryG",
        "outputId": "bb15aeb3-7e0c-40bf-885e-2da0cfbdc129"
      },
      "execution_count": null,
      "outputs": [
        {
          "output_type": "display_data",
          "data": {
            "text/plain": [
              "tensor([[ 6., 22., 38.],\n",
              "        [54., 70., 86.]])"
            ]
          },
          "metadata": {}
        },
        {
          "output_type": "execute_result",
          "data": {
            "text/plain": [
              "tensor([[12., 14., 16., 18.],\n",
              "        [20., 22., 24., 26.],\n",
              "        [28., 30., 32., 34.]])"
            ]
          },
          "metadata": {},
          "execution_count": 13
        }
      ]
    },
    {
      "cell_type": "markdown",
      "metadata": {
        "id": "sYNysSHoQ6dX"
      },
      "source": [
        "###### 📖 Mastering broadcasting is hard.\n",
        "\n",
        "\n",
        "However, it is very useful to write **vectorized** code, i.e. code that avoids explicit python loops which are slow and can not be efficiently parallelized.\n",
        "\n",
        "Instead, this approach takes advantage of the underlying C implementation of PyTorch and Numpy (on CPU) or CUDA implementation of Pytorch (on GPU).\n",
        "\n",
        "![broadcasting](https://jakevdp.github.io/PythonDataScienceHandbook/figures/02.05-broadcasting.png)"
      ]
    },
    {
      "cell_type": "markdown",
      "metadata": {
        "id": "PqyMVYPL_yoC"
      },
      "source": [
        "##### Exercize\n",
        ">\n",
        "> Given two vectors $X \\in R^n$ and $Y \\in R^m$ compute the differences between all possible pairs of numbers, and organize those differences in a matrix $Z \\in R^{n \\times m}$:\n",
        "> $$ z_{ij} = x_i - y_j $$"
      ]
    },
    {
      "cell_type": "code",
      "metadata": {
        "id": "-WqFqMkksOBg",
        "colab": {
          "base_uri": "https://localhost:8080/"
        },
        "outputId": "910474ef-4439-4d75-9922-52f109b698c2"
      },
      "source": [
        "x = torch.tensor([1, 2, 3])\n",
        "y = torch.tensor([4, 5])\n",
        "\n",
        "(x[None,:]-y[:,None])\n",
        "# y[:,None].shape\n",
        "# ✏️ your code here"
      ],
      "execution_count": null,
      "outputs": [
        {
          "output_type": "execute_result",
          "data": {
            "text/plain": [
              "tensor([[-3, -2, -1],\n",
              "        [-4, -3, -2]])"
            ]
          },
          "metadata": {},
          "execution_count": 26
        }
      ]
    },
    {
      "cell_type": "markdown",
      "metadata": {
        "id": "KiRfQEztdwqE"
      },
      "source": [
        "#### It is possible to easily convert to/from Numpy tensors:"
      ]
    },
    {
      "cell_type": "code",
      "metadata": {
        "id": "aI5VsGZJd2rV",
        "colab": {
          "base_uri": "https://localhost:8080/"
        },
        "outputId": "e08dba88-1f88-40d3-a57f-5e52663b652f"
      },
      "source": [
        "t = torch.rand((3, 3), dtype=torch.float32)\n",
        "t.numpy()"
      ],
      "execution_count": null,
      "outputs": [
        {
          "output_type": "execute_result",
          "data": {
            "text/plain": [
              "array([[0.30680448, 0.8388882 , 0.24439543],\n",
              "       [0.40237576, 0.12493682, 0.9361805 ],\n",
              "       [0.7080693 , 0.25043416, 0.29882312]], dtype=float32)"
            ]
          },
          "metadata": {},
          "execution_count": 27
        }
      ]
    },
    {
      "cell_type": "code",
      "metadata": {
        "id": "Wt4Uy9Bbd81h",
        "colab": {
          "base_uri": "https://localhost:8080/"
        },
        "outputId": "0b3c64e8-f2cb-46ae-8000-0d8ff3cb9279"
      },
      "source": [
        "import numpy as np\n",
        "n = np.random.rand(3,3).astype(np.float16)\n",
        "torch.from_numpy(n)"
      ],
      "execution_count": null,
      "outputs": [
        {
          "output_type": "execute_result",
          "data": {
            "text/plain": [
              "tensor([[0.1039, 0.4114, 0.8882],\n",
              "        [0.1620, 0.3750, 0.3352],\n",
              "        [0.9092, 0.2212, 0.4077]], dtype=torch.float16)"
            ]
          },
          "metadata": {},
          "execution_count": 29
        }
      ]
    },
    {
      "cell_type": "markdown",
      "source": [
        "#### Tensor indexing"
      ],
      "metadata": {
        "id": "R4MItNz27AWb"
      }
    },
    {
      "cell_type": "code",
      "source": [
        "a = torch.arange(50).reshape(10, 5)\n",
        "\n",
        "print(a[0])  # first row\n",
        "print(a[1])  # second row\n",
        "print(a[-1])  # last row\n",
        "print(a[:,-2])  # second last column"
      ],
      "metadata": {
        "colab": {
          "base_uri": "https://localhost:8080/"
        },
        "id": "qwPrZXsP6_ae",
        "outputId": "bd25c8e5-aef0-42fb-b9e3-03b9a4699fe9"
      },
      "execution_count": null,
      "outputs": [
        {
          "output_type": "stream",
          "name": "stdout",
          "text": [
            "tensor([0, 1, 2, 3, 4])\n",
            "tensor([5, 6, 7, 8, 9])\n",
            "tensor([45, 46, 47, 48, 49])\n",
            "tensor([ 3,  8, 13, 18, 23, 28, 33, 38, 43, 48])\n"
          ]
        }
      ]
    },
    {
      "cell_type": "code",
      "metadata": {
        "colab": {
          "base_uri": "https://localhost:8080/"
        },
        "outputId": "4af22f6e-43e7-4c12-cc09-6d94a1d9c737",
        "id": "wxB8tWbv7Ijq"
      },
      "source": [
        "#slicing\n",
        "print(a[5:8])\n",
        "print(a[:,-2:])\n",
        "\n",
        "print(a[:,-2:,None].shape) # \"None\" adds an empty dimension. May be useful for broadcasting"
      ],
      "execution_count": null,
      "outputs": [
        {
          "output_type": "stream",
          "name": "stdout",
          "text": [
            "tensor([[25, 26, 27, 28, 29],\n",
            "        [30, 31, 32, 33, 34],\n",
            "        [35, 36, 37, 38, 39]])\n",
            "tensor([[ 3,  4],\n",
            "        [ 8,  9],\n",
            "        [13, 14],\n",
            "        [18, 19],\n",
            "        [23, 24],\n",
            "        [28, 29],\n",
            "        [33, 34],\n",
            "        [38, 39],\n",
            "        [43, 44],\n",
            "        [48, 49]])\n",
            "torch.Size([10, 2, 1])\n"
          ]
        }
      ]
    },
    {
      "cell_type": "code",
      "source": [
        "#boolean indexing\n",
        "print(a[a>25])\n",
        "print(a[a[:,0]>30,:])"
      ],
      "metadata": {
        "colab": {
          "base_uri": "https://localhost:8080/"
        },
        "id": "k1vsM3mY8fZ_",
        "outputId": "114c9f2a-4013-48ff-e1b7-cdbf654f52bd"
      },
      "execution_count": null,
      "outputs": [
        {
          "output_type": "stream",
          "name": "stdout",
          "text": [
            "tensor([26, 27, 28, 29, 30, 31, 32, 33, 34, 35, 36, 37, 38, 39, 40, 41, 42, 43,\n",
            "        44, 45, 46, 47, 48, 49])\n",
            "tensor([[35, 36, 37, 38, 39],\n",
            "        [40, 41, 42, 43, 44],\n",
            "        [45, 46, 47, 48, 49]])\n"
          ]
        }
      ]
    },
    {
      "cell_type": "markdown",
      "source": [
        "#### Using the GPU\n",
        "\n",
        "With Colab you can choose different types of executions (kernels). Ensure you selected one with GPU capabilities."
      ],
      "metadata": {
        "id": "SeRrfXzd4nzD"
      }
    },
    {
      "cell_type": "code",
      "metadata": {
        "id": "gbIogawQYBvW",
        "colab": {
          "base_uri": "https://localhost:8080/"
        },
        "outputId": "7e343a20-ca64-4a32-8e48-43c89118862b"
      },
      "source": [
        "# Check if the GPU is available\n",
        "torch.cuda.is_available()"
      ],
      "execution_count": null,
      "outputs": [
        {
          "output_type": "execute_result",
          "data": {
            "text/plain": [
              "True"
            ]
          },
          "metadata": {},
          "execution_count": 33
        }
      ]
    },
    {
      "cell_type": "code",
      "metadata": {
        "id": "TVYbgoigX_PL",
        "colab": {
          "base_uri": "https://localhost:8080/"
        },
        "outputId": "96c52159-b299-4e2c-aa6f-22cb1c84f914"
      },
      "source": [
        "# If available use the GPU\n",
        "device = torch.device('cuda' if torch.cuda.is_available() else 'cpu')\n",
        "device"
      ],
      "execution_count": null,
      "outputs": [
        {
          "output_type": "execute_result",
          "data": {
            "text/plain": [
              "device(type='cuda')"
            ]
          },
          "metadata": {},
          "execution_count": 34
        }
      ]
    },
    {
      "cell_type": "code",
      "metadata": {
        "id": "yhHVeolzWZQn",
        "colab": {
          "base_uri": "https://localhost:8080/"
        },
        "outputId": "410d8fa7-d885-4f4e-e2c1-710aedde7882"
      },
      "source": [
        "t = torch.rand((3,3))\n",
        "t = t.to(device)  # Pay attention to re-assign the variable!\n",
        "t"
      ],
      "execution_count": null,
      "outputs": [
        {
          "output_type": "execute_result",
          "data": {
            "text/plain": [
              "tensor([[0.8092, 0.0324, 0.2026],\n",
              "        [0.2752, 0.6892, 0.7211],\n",
              "        [0.2562, 0.9468, 0.8231]], device='cuda:0')"
            ]
          },
          "metadata": {},
          "execution_count": 37
        }
      ]
    },
    {
      "cell_type": "code",
      "metadata": {
        "id": "Al_WAx4RWDy2",
        "colab": {
          "base_uri": "https://localhost:8080/"
        },
        "outputId": "1be4d95d-9c6d-46f8-f362-ee4886b99753"
      },
      "source": [
        "# Construct tensors directly on the GPU memory\n",
        "t = torch.ones((5, 5), device='cuda')\n",
        "t"
      ],
      "execution_count": null,
      "outputs": [
        {
          "output_type": "execute_result",
          "data": {
            "text/plain": [
              "tensor([[1., 1., 1., 1., 1.],\n",
              "        [1., 1., 1., 1., 1.],\n",
              "        [1., 1., 1., 1., 1.],\n",
              "        [1., 1., 1., 1., 1.],\n",
              "        [1., 1., 1., 1., 1.]], device='cuda:0')"
            ]
          },
          "metadata": {},
          "execution_count": 38
        }
      ]
    },
    {
      "cell_type": "code",
      "metadata": {
        "id": "nuynABfrVZmD",
        "colab": {
          "base_uri": "https://localhost:8080/"
        },
        "outputId": "b2559149-2882-4b58-f1aa-23d394328503"
      },
      "source": [
        "t = torch.rand((3,3))\n",
        "\n",
        "# Other methods to transfer tensors between devices\n",
        "\n",
        "# Be careful of hardcoded cuda calls: the code will not run if a GPU is not available\n",
        "t = t.cuda()\n",
        "t"
      ],
      "execution_count": null,
      "outputs": [
        {
          "output_type": "execute_result",
          "data": {
            "text/plain": [
              "tensor([[0.4902, 0.3026, 0.5660],\n",
              "        [0.5570, 0.9328, 0.5681],\n",
              "        [0.7503, 0.1866, 0.2269]], device='cuda:0')"
            ]
          },
          "metadata": {},
          "execution_count": 39
        }
      ]
    },
    {
      "cell_type": "code",
      "metadata": {
        "id": "JkOX8icwVXPK",
        "colab": {
          "base_uri": "https://localhost:8080/"
        },
        "outputId": "72dee7da-0e0a-47d8-efab-94fd57154cd1"
      },
      "source": [
        "t = t.cpu()\n",
        "t"
      ],
      "execution_count": null,
      "outputs": [
        {
          "output_type": "execute_result",
          "data": {
            "text/plain": [
              "tensor([[0.4902, 0.3026, 0.5660],\n",
              "        [0.5570, 0.9328, 0.5681],\n",
              "        [0.7503, 0.1866, 0.2269]])"
            ]
          },
          "metadata": {},
          "execution_count": 40
        }
      ]
    },
    {
      "cell_type": "code",
      "source": [
        "import time\n",
        "#compar the execution time\n",
        "\n",
        "x = torch.randn([10000,3])\n",
        "y = torch.randn([20000,3])\n",
        "\n",
        "x_gpu = x.cuda()\n",
        "y_gpu = y.cuda()\n",
        "\n",
        "t = time.time()\n",
        "((x[:,None,:]-y[None,:,:])**2).sum(-1)\n",
        "print(\"Elapsed s: \", time.time()-t)\n",
        "\n",
        "t = time.time()\n",
        "((x_gpu[:,None,:]-y_gpu[None,:,:])**2).sum(-1)\n",
        "print(\"Elapsed s: \", time.time()-t)"
      ],
      "metadata": {
        "colab": {
          "base_uri": "https://localhost:8080/"
        },
        "id": "19cIom-fw8Cu",
        "outputId": "b12e904e-146e-49c5-92c1-2c77b73cab9a"
      },
      "execution_count": null,
      "outputs": [
        {
          "output_type": "stream",
          "name": "stdout",
          "text": [
            "Elapsed s:  6.045674562454224\n",
            "Elapsed s:  0.001463174819946289\n"
          ]
        }
      ]
    },
    {
      "cell_type": "markdown",
      "metadata": {
        "id": "dHLO4Z-T_yxB"
      },
      "source": [
        "## The Pytorch NN training pipeline"
      ]
    },
    {
      "cell_type": "code",
      "metadata": {
        "id": "pRePt-K1_yw9"
      },
      "source": [
        "import torch\n",
        "import numpy as np\n",
        "import matplotlib.pyplot as plt"
      ],
      "execution_count": null,
      "outputs": []
    },
    {
      "cell_type": "code",
      "metadata": {
        "id": "2tGN_bJOcfd3"
      },
      "source": [
        "# Reproducibility stuff\n",
        "import random\n",
        "torch.manual_seed(42)\n",
        "np.random.seed(42)\n",
        "random.seed(0)\n",
        "\n",
        "torch.cuda.manual_seed(0)\n",
        "torch.backends.cudnn.deterministic = True  # Note that this Deterministic mode can have a performance impact\n",
        "torch.backends.cudnn.benchmark = False"
      ],
      "execution_count": null,
      "outputs": []
    },
    {
      "cell_type": "markdown",
      "source": [
        "\n",
        "PyTorch provides the elegantly designed modules and classes\n",
        "[`torch.nn`](https://pytorch.org/docs/stable/nn.html),\n",
        "[`torch.optim`](https://pytorch.org/docs/stable/optim.html),\n",
        "[`Dataset`](https://pytorch.org/docs/stable/data.html?highlight=dataset#torch.utils.data.Dataset),\n",
        "and [`DataLoader`](https://pytorch.org/docs/stable/data.html?highlight=dataloader#torch.utils.data.DataLoader)\n",
        "to help you create and train neural networks.\n",
        "\n",
        "\n",
        "---\n",
        "\n",
        "A general pipeline suitable for most problems and models with minors tweaks comprises these steps:\n",
        "\n",
        "```python\n",
        "# load data\n",
        "# create model\n",
        "# create optimizer\n",
        "\n",
        "# for each epoch\n",
        "  # train the model on the training set\n",
        "  # evaluate the model on one or more evaluation sets\n",
        "  # log metrics (e.g. log, accuracy)\n",
        "```"
      ],
      "metadata": {
        "id": "7gNTB1k5_zEn"
      }
    },
    {
      "cell_type": "markdown",
      "metadata": {
        "id": "Tvpx3YbdcKlK"
      },
      "source": [
        "### PyTorch Dataset"
      ]
    },
    {
      "cell_type": "markdown",
      "source": [
        "In PyTorch (and other common frameworks) you can decouple the code that manages the data and the code that uses the data.\n",
        "This produces simpler and more understandable code, and enables to re-use the same dataset with different models or the same model with different datasets.\n",
        "\n",
        "In the following sections, we will have a glimpse into how to manage the data pipeline.\n",
        "\n",
        "[`torch.utils.data.Dataset`](https://pytorch.org/docs/stable/data.html?highlight=dataset#torch.utils.data.Dataset) is an abstract class representing a dataset. Your custom dataset should inherit `Dataset` and override the following methods:\n",
        "\n",
        "- `__len__`: so that `len(dataset)` returns the size of the dataset\n",
        "- `__getitem__`: so that `dataset[i]` returns the $i$-th sample from the dataset.\n",
        "\n",
        "Let's create a toy dataset by randomly sampling noisy observations pairs $(x_i,y_i)$:\n",
        "\\begin{align*}\n",
        "&x_i \\sim U([-1, 1])\\\\\n",
        "&\\nu_i \\sim \\mathcal{N}(0,1)\\\\\n",
        "&y_i = x_i^3 + \\nu_i\n",
        "\\end{align*}:"
      ],
      "metadata": {
        "id": "gUB7xjinRNYi"
      }
    },
    {
      "cell_type": "code",
      "metadata": {
        "id": "HclJRK7QdOZM",
        "colab": {
          "base_uri": "https://localhost:8080/"
        },
        "outputId": "b699ef20-a6db-49dc-bc92-9197dfbb761e"
      },
      "source": [
        "from torch.utils.data import Dataset\n",
        "\n",
        "class ToyDataset(Dataset):\n",
        "\n",
        "  def __init__(self, n_points: int = 20, noise: float = .1):\n",
        "    super().__init__()  # In python 3 this is enough\n",
        "\n",
        "    self.n_points = n_points\n",
        "    self.x = torch.rand((n_points,1))*2-1\n",
        "    self.y = self.x ** 3 + noise * torch.randn(n_points,1)\n",
        "\n",
        "  def __len__(self):\n",
        "    return self.n_points\n",
        "\n",
        "  def __getitem__(self, idx):\n",
        "    return {\n",
        "        'x': self.x[idx],\n",
        "        'y': self.y[idx]\n",
        "    }\n",
        "\n",
        "toydataset = ToyDataset(200, noise=.1)\n",
        "toydataset"
      ],
      "execution_count": null,
      "outputs": [
        {
          "output_type": "execute_result",
          "data": {
            "text/plain": [
              "<__main__.ToyDataset at 0x784c9b7433a0>"
            ]
          },
          "metadata": {},
          "execution_count": 47
        }
      ]
    },
    {
      "cell_type": "markdown",
      "metadata": {
        "id": "BZRoEO92fefK"
      },
      "source": [
        "In this case the dataset is composed of simple pairs of points:"
      ]
    },
    {
      "cell_type": "code",
      "metadata": {
        "colab": {
          "base_uri": "https://localhost:8080/"
        },
        "id": "Z-jhx5AUvQ2E",
        "outputId": "b06842c4-3106-405a-fa24-36501ea5eeb0"
      },
      "source": [
        "toydataset[2]"
      ],
      "execution_count": null,
      "outputs": [
        {
          "output_type": "execute_result",
          "data": {
            "text/plain": [
              "{'x': tensor([-0.2343]), 'y': tensor([0.0816])}"
            ]
          },
          "metadata": {},
          "execution_count": 48
        }
      ]
    },
    {
      "cell_type": "code",
      "metadata": {
        "id": "M6vM4yKRfZEm",
        "colab": {
          "base_uri": "https://localhost:8080/",
          "height": 542
        },
        "outputId": "8f99771c-9868-494f-fa97-018efa29b560"
      },
      "source": [
        "import plotly.express as px\n",
        "fig = px.scatter(x=toydataset.x[:,0].numpy(), y=toydataset.y[:,0].numpy())\n",
        "fig.show()"
      ],
      "execution_count": null,
      "outputs": [
        {
          "output_type": "display_data",
          "data": {
            "text/html": [
              "<html>\n",
              "<head><meta charset=\"utf-8\" /></head>\n",
              "<body>\n",
              "    <div>            <script src=\"https://cdnjs.cloudflare.com/ajax/libs/mathjax/2.7.5/MathJax.js?config=TeX-AMS-MML_SVG\"></script><script type=\"text/javascript\">if (window.MathJax && window.MathJax.Hub && window.MathJax.Hub.Config) {window.MathJax.Hub.Config({SVG: {font: \"STIX-Web\"}});}</script>                <script type=\"text/javascript\">window.PlotlyConfig = {MathJaxConfig: 'local'};</script>\n",
              "        <script charset=\"utf-8\" src=\"https://cdn.plot.ly/plotly-2.24.1.min.js\"></script>                <div id=\"c22ef87e-eea3-45f6-a8a0-0ca5b3bae3ca\" class=\"plotly-graph-div\" style=\"height:525px; width:100%;\"></div>            <script type=\"text/javascript\">                                    window.PLOTLYENV=window.PLOTLYENV || {};                                    if (document.getElementById(\"c22ef87e-eea3-45f6-a8a0-0ca5b3bae3ca\")) {                    Plotly.newPlot(                        \"c22ef87e-eea3-45f6-a8a0-0ca5b3bae3ca\",                        [{\"hovertemplate\":\"x=%{x}\\u003cbr\\u003ey=%{y}\\u003cextra\\u003e\\u003c\\u002fextra\\u003e\",\"legendgroup\":\"\",\"marker\":{\"color\":\"#636efa\",\"symbol\":\"circle\"},\"mode\":\"markers\",\"name\":\"\",\"orientation\":\"v\",\"showlegend\":false,\"x\":[0.7645385265350342,0.8300079107284546,-0.23427248001098633,0.9186112880706787,-0.21910357475280762,0.2017906904220581,-0.48685503005981445,0.587282657623291,0.8815429210662842,-0.7336281538009644,0.8691961765289307,0.18715929985046387,0.7388088703155518,0.13543057441711426,0.4821881055831909,-0.1411910057067871,0.7708858251571655,0.14780890941619873,-0.46683990955352783,0.2548983097076416,-0.46073663234710693,-0.11727285385131836,-0.40615832805633545,0.6633709669113159,-0.7893701791763306,-0.4610103368759155,-0.2823747396469116,-0.601272463798523,0.0943831205368042,-0.987679123878479,0.903109073638916,-0.8494682312011719,0.7720273733139038,0.1664191484451294,-0.32470452785491943,0.6179499626159668,0.15585076808929443,0.8079633712768555,0.10931968688964844,-0.31537318229675293,0.26868367195129395,-0.2711794376373291,0.4208575487136841,0.8928221464157104,0.5780595541000366,-0.437172532081604,0.577264666557312,0.1789262294769287,0.5078350305557251,-0.6095050573348999,-0.9899084568023682,-0.3863605260848999,-0.7670228481292725,0.8205388784408569,0.28803133964538574,0.41421353816986084,0.3162611722946167,-0.017395973205566406,0.7826082706451416,-0.7105135917663574,0.06296372413635254,-0.6825401782989502,0.308351993560791,-0.34438228607177734,0.30641627311706543,-0.20834147930145264,0.8293918371200562,-0.5927019119262695,-0.5963979959487915,-0.5964339971542358,0.8994427919387817,0.33325111865997314,0.9622507095336914,-0.825276255607605,-0.9918761253356934,-0.782363772392273,-0.6726890802383423,0.4050401449203491,0.3580758571624756,0.830924391746521,-0.516425371170044,-0.6817117929458618,0.5305781364440918,-0.40420448780059814,0.6069238185882568,-0.23730063438415527,0.5720459222793579,-0.7769680023193359,-0.5046497583389282,0.304876446723938,0.21140754222869873,-0.25495874881744385,0.5960694551467896,0.6798092126846313,-0.7251733541488647,-0.5338681936264038,0.9156619310379028,-0.33743250370025635,-0.3545163869857788,-0.9675946235656738,-0.5726702213287354,0.24980366230010986,-0.13199317455291748,-0.7258859872817993,0.023456692695617676,-0.6830815076828003,-0.8483966588973999,-0.550662636756897,-0.8752120733261108,-0.6367380619049072,0.9996088743209839,0.1888749599456787,0.3081597089767456,-0.9326843023300171,-0.6567738056182861,-0.33285582065582275,0.1563711166381836,-0.8799213171005249,-0.4308730363845825,-0.5986685752868652,0.0027712583541870117,-0.372103214263916,-0.06929576396942139,-0.6776297092437744,-0.6863951683044434,-0.5834017992019653,-0.34229743480682373,-0.789280891418457,0.8384698629379272,-0.198464035987854,0.8603967428207397,0.311582088470459,-0.846796989440918,0.6920351982116699,-0.2751448154449463,-0.38332605361938477,-0.8300704956054688,-0.9941606521606445,0.28611063957214355,-0.2184438705444336,0.3893231153488159,-0.8206634521484375,0.7424291372299194,-0.7340537309646606,-0.17267334461212158,0.20886969566345215,0.516251802444458,0.8073103427886963,0.9109592437744141,-0.7929221391677856,0.2516672611236572,-0.4301259517669678,-0.10958480834960938,-0.7484900951385498,0.9108586311340332,-0.7339504957199097,0.5344512462615967,0.35143959522247314,0.32495594024658203,-0.5406461954116821,0.9089515209197998,0.21975040435791016,0.1286400556564331,-0.8812547922134399,0.4197884798049927,-0.15002059936523438,-0.4581242799758911,0.8589465618133545,0.22294878959655762,-0.5532764196395874,-0.5061389207839966,-0.04775571823120117,0.558361291885376,-0.2555338144302368,-0.5705748796463013,-0.3424428701400757,-0.7470748424530029,0.3566324710845947,0.7740402221679688,-0.9414403438568115,0.23225069046020508,0.5165917873382568,0.1813293695449829,-0.3561246395111084,0.521942138671875,0.5255131721496582,0.3739272356033325,-0.1757214069366455,-0.2648012638092041,0.10698091983795166,-0.17665410041809082,-0.2980010509490967,0.6392068862915039,0.8593995571136475,-0.09899735450744629,-0.22389686107635498,0.014592289924621582,-0.059708237648010254,0.24041128158569336,0.28023362159729004],\"xaxis\":\"x\",\"y\":[0.43095430731773376,0.5293089747428894,0.08156538754701614,0.7566736340522766,0.09556154161691666,0.029047157615423203,-0.17318299412727356,0.23510046303272247,0.7112405896186829,-0.4708396792411804,0.4520655870437622,-0.1463894098997116,0.4437572956085205,0.0656716451048851,0.1433645784854889,-0.00616478081792593,0.5884311199188232,0.05201604962348938,0.011656388640403748,-0.018994521349668503,-0.06162089854478836,0.1983218640089035,-0.0007010102272033691,0.3623970150947571,-0.48973333835601807,-0.18090584874153137,-0.13060112297534943,-0.2957625389099121,0.05155061185359955,-0.9552831053733826,0.7809787392616272,-0.6853765249252319,0.4140360653400421,-0.0017794226296246052,-0.1709079146385193,0.26895326375961304,-0.09448519349098206,0.5576194524765015,0.019175652414560318,-0.04429798945784569,-0.13814452290534973,0.20514170825481415,0.17466577887535095,0.8481202125549316,0.2564919590950012,-0.043052248656749725,0.22652359306812286,-0.016407374292612076,0.1482590138912201,-0.12129267305135727,-0.9692807197570801,-0.06541025638580322,-0.38698893785476685,0.6098803877830505,0.08256806433200836,0.06918313354253769,-0.059799615293741226,0.14839164912700653,0.38823795318603516,-0.411598265171051,-0.08026492595672607,-0.26638928055763245,-0.04196980595588684,-0.0188810545951128,0.08512059599161148,0.1767784208059311,0.6749383211135864,-0.2945951223373413,-0.1286240816116333,-0.24374252557754517,0.7545573711395264,0.045550037175416946,0.7496857047080994,-0.7499854564666748,-0.993809163570404,-0.3998408913612366,-0.2520047426223755,0.03951483219861984,-0.11599413305521011,0.573825478553772,-0.051354117691516876,-0.3757126033306122,0.04596453160047531,-0.08782599121332169,0.3034297823905945,0.07768425345420837,0.17839249968528748,-0.43533968925476074,-0.1765957474708557,0.05996830016374588,0.048105690628290176,0.05679613724350929,0.23688562214374542,0.3218672573566437,-0.40198564529418945,0.06481799483299255,0.8200203776359558,0.058752741664648056,-0.07234169542789459,-0.9670599699020386,-0.24352671205997467,-0.08124649524688721,0.08482830226421356,-0.39204099774360657,0.03464122861623764,-0.3727423846721649,-0.5249701738357544,-0.23418208956718445,-0.5635843276977539,-0.28342846035957336,0.9800117611885071,-0.07037743926048279,0.05063188821077347,-0.934852659702301,-0.09738072752952576,-0.03126557543873787,0.08076602220535278,-0.4255480468273163,-0.022831466048955917,-0.0786089152097702,0.03039691224694252,0.04186788573861122,-0.19759097695350647,-0.4523540139198303,-0.14977312088012695,-0.015062406659126282,0.0478953942656517,-0.4860858619213104,0.5438665747642517,-0.014008418656885624,0.6147179007530212,-0.09444648772478104,-0.6558277606964111,0.2978248596191406,-0.0171581469476223,-0.006985228508710861,-0.5533563494682312,-1.0795636177062988,0.21273618936538696,0.03404522314667702,0.07264760136604309,-0.521827220916748,0.5753953456878662,-0.37802159786224365,0.027582181617617607,0.022034239023923874,0.42278677225112915,0.45180752873420715,0.7754936814308167,-0.6320347189903259,0.05539100989699364,0.09102768450975418,-0.03202878311276436,-0.4908817410469055,0.7633228302001953,-0.4166378080844879,0.09603385627269745,0.08329840004444122,0.17126327753067017,-0.18321910500526428,0.8357557654380798,-0.058922044932842255,0.03269045054912567,-0.6553006768226624,0.11483055353164673,-0.1294698715209961,-0.004498608410358429,0.630920946598053,0.028949713334441185,-0.17321674525737762,-0.13834930956363678,-0.1181369200348854,0.32868295907974243,0.03778977692127228,-0.086407870054245,0.010509829968214035,-0.5504647493362427,0.21052245795726776,0.6618576645851135,-0.8448871970176697,0.061556413769721985,0.094114750623703,-0.11604895442724228,-0.10370694100856781,0.14465934038162231,0.0387129932641983,-0.02373625338077545,-0.04617653787136078,0.0776686742901802,-0.013039807789027691,0.009758593514561653,-0.03034410998225212,0.3556312322616577,0.47648411989212036,0.09774269163608551,0.10334349423646927,-0.014178040437400341,-0.027847012504935265,-0.0054261814802885056,0.09968509525060654],\"yaxis\":\"y\",\"type\":\"scatter\"}],                        {\"template\":{\"data\":{\"histogram2dcontour\":[{\"type\":\"histogram2dcontour\",\"colorbar\":{\"outlinewidth\":0,\"ticks\":\"\"},\"colorscale\":[[0.0,\"#0d0887\"],[0.1111111111111111,\"#46039f\"],[0.2222222222222222,\"#7201a8\"],[0.3333333333333333,\"#9c179e\"],[0.4444444444444444,\"#bd3786\"],[0.5555555555555556,\"#d8576b\"],[0.6666666666666666,\"#ed7953\"],[0.7777777777777778,\"#fb9f3a\"],[0.8888888888888888,\"#fdca26\"],[1.0,\"#f0f921\"]]}],\"choropleth\":[{\"type\":\"choropleth\",\"colorbar\":{\"outlinewidth\":0,\"ticks\":\"\"}}],\"histogram2d\":[{\"type\":\"histogram2d\",\"colorbar\":{\"outlinewidth\":0,\"ticks\":\"\"},\"colorscale\":[[0.0,\"#0d0887\"],[0.1111111111111111,\"#46039f\"],[0.2222222222222222,\"#7201a8\"],[0.3333333333333333,\"#9c179e\"],[0.4444444444444444,\"#bd3786\"],[0.5555555555555556,\"#d8576b\"],[0.6666666666666666,\"#ed7953\"],[0.7777777777777778,\"#fb9f3a\"],[0.8888888888888888,\"#fdca26\"],[1.0,\"#f0f921\"]]}],\"heatmap\":[{\"type\":\"heatmap\",\"colorbar\":{\"outlinewidth\":0,\"ticks\":\"\"},\"colorscale\":[[0.0,\"#0d0887\"],[0.1111111111111111,\"#46039f\"],[0.2222222222222222,\"#7201a8\"],[0.3333333333333333,\"#9c179e\"],[0.4444444444444444,\"#bd3786\"],[0.5555555555555556,\"#d8576b\"],[0.6666666666666666,\"#ed7953\"],[0.7777777777777778,\"#fb9f3a\"],[0.8888888888888888,\"#fdca26\"],[1.0,\"#f0f921\"]]}],\"heatmapgl\":[{\"type\":\"heatmapgl\",\"colorbar\":{\"outlinewidth\":0,\"ticks\":\"\"},\"colorscale\":[[0.0,\"#0d0887\"],[0.1111111111111111,\"#46039f\"],[0.2222222222222222,\"#7201a8\"],[0.3333333333333333,\"#9c179e\"],[0.4444444444444444,\"#bd3786\"],[0.5555555555555556,\"#d8576b\"],[0.6666666666666666,\"#ed7953\"],[0.7777777777777778,\"#fb9f3a\"],[0.8888888888888888,\"#fdca26\"],[1.0,\"#f0f921\"]]}],\"contourcarpet\":[{\"type\":\"contourcarpet\",\"colorbar\":{\"outlinewidth\":0,\"ticks\":\"\"}}],\"contour\":[{\"type\":\"contour\",\"colorbar\":{\"outlinewidth\":0,\"ticks\":\"\"},\"colorscale\":[[0.0,\"#0d0887\"],[0.1111111111111111,\"#46039f\"],[0.2222222222222222,\"#7201a8\"],[0.3333333333333333,\"#9c179e\"],[0.4444444444444444,\"#bd3786\"],[0.5555555555555556,\"#d8576b\"],[0.6666666666666666,\"#ed7953\"],[0.7777777777777778,\"#fb9f3a\"],[0.8888888888888888,\"#fdca26\"],[1.0,\"#f0f921\"]]}],\"surface\":[{\"type\":\"surface\",\"colorbar\":{\"outlinewidth\":0,\"ticks\":\"\"},\"colorscale\":[[0.0,\"#0d0887\"],[0.1111111111111111,\"#46039f\"],[0.2222222222222222,\"#7201a8\"],[0.3333333333333333,\"#9c179e\"],[0.4444444444444444,\"#bd3786\"],[0.5555555555555556,\"#d8576b\"],[0.6666666666666666,\"#ed7953\"],[0.7777777777777778,\"#fb9f3a\"],[0.8888888888888888,\"#fdca26\"],[1.0,\"#f0f921\"]]}],\"mesh3d\":[{\"type\":\"mesh3d\",\"colorbar\":{\"outlinewidth\":0,\"ticks\":\"\"}}],\"scatter\":[{\"fillpattern\":{\"fillmode\":\"overlay\",\"size\":10,\"solidity\":0.2},\"type\":\"scatter\"}],\"parcoords\":[{\"type\":\"parcoords\",\"line\":{\"colorbar\":{\"outlinewidth\":0,\"ticks\":\"\"}}}],\"scatterpolargl\":[{\"type\":\"scatterpolargl\",\"marker\":{\"colorbar\":{\"outlinewidth\":0,\"ticks\":\"\"}}}],\"bar\":[{\"error_x\":{\"color\":\"#2a3f5f\"},\"error_y\":{\"color\":\"#2a3f5f\"},\"marker\":{\"line\":{\"color\":\"#E5ECF6\",\"width\":0.5},\"pattern\":{\"fillmode\":\"overlay\",\"size\":10,\"solidity\":0.2}},\"type\":\"bar\"}],\"scattergeo\":[{\"type\":\"scattergeo\",\"marker\":{\"colorbar\":{\"outlinewidth\":0,\"ticks\":\"\"}}}],\"scatterpolar\":[{\"type\":\"scatterpolar\",\"marker\":{\"colorbar\":{\"outlinewidth\":0,\"ticks\":\"\"}}}],\"histogram\":[{\"marker\":{\"pattern\":{\"fillmode\":\"overlay\",\"size\":10,\"solidity\":0.2}},\"type\":\"histogram\"}],\"scattergl\":[{\"type\":\"scattergl\",\"marker\":{\"colorbar\":{\"outlinewidth\":0,\"ticks\":\"\"}}}],\"scatter3d\":[{\"type\":\"scatter3d\",\"line\":{\"colorbar\":{\"outlinewidth\":0,\"ticks\":\"\"}},\"marker\":{\"colorbar\":{\"outlinewidth\":0,\"ticks\":\"\"}}}],\"scattermapbox\":[{\"type\":\"scattermapbox\",\"marker\":{\"colorbar\":{\"outlinewidth\":0,\"ticks\":\"\"}}}],\"scatterternary\":[{\"type\":\"scatterternary\",\"marker\":{\"colorbar\":{\"outlinewidth\":0,\"ticks\":\"\"}}}],\"scattercarpet\":[{\"type\":\"scattercarpet\",\"marker\":{\"colorbar\":{\"outlinewidth\":0,\"ticks\":\"\"}}}],\"carpet\":[{\"aaxis\":{\"endlinecolor\":\"#2a3f5f\",\"gridcolor\":\"white\",\"linecolor\":\"white\",\"minorgridcolor\":\"white\",\"startlinecolor\":\"#2a3f5f\"},\"baxis\":{\"endlinecolor\":\"#2a3f5f\",\"gridcolor\":\"white\",\"linecolor\":\"white\",\"minorgridcolor\":\"white\",\"startlinecolor\":\"#2a3f5f\"},\"type\":\"carpet\"}],\"table\":[{\"cells\":{\"fill\":{\"color\":\"#EBF0F8\"},\"line\":{\"color\":\"white\"}},\"header\":{\"fill\":{\"color\":\"#C8D4E3\"},\"line\":{\"color\":\"white\"}},\"type\":\"table\"}],\"barpolar\":[{\"marker\":{\"line\":{\"color\":\"#E5ECF6\",\"width\":0.5},\"pattern\":{\"fillmode\":\"overlay\",\"size\":10,\"solidity\":0.2}},\"type\":\"barpolar\"}],\"pie\":[{\"automargin\":true,\"type\":\"pie\"}]},\"layout\":{\"autotypenumbers\":\"strict\",\"colorway\":[\"#636efa\",\"#EF553B\",\"#00cc96\",\"#ab63fa\",\"#FFA15A\",\"#19d3f3\",\"#FF6692\",\"#B6E880\",\"#FF97FF\",\"#FECB52\"],\"font\":{\"color\":\"#2a3f5f\"},\"hovermode\":\"closest\",\"hoverlabel\":{\"align\":\"left\"},\"paper_bgcolor\":\"white\",\"plot_bgcolor\":\"#E5ECF6\",\"polar\":{\"bgcolor\":\"#E5ECF6\",\"angularaxis\":{\"gridcolor\":\"white\",\"linecolor\":\"white\",\"ticks\":\"\"},\"radialaxis\":{\"gridcolor\":\"white\",\"linecolor\":\"white\",\"ticks\":\"\"}},\"ternary\":{\"bgcolor\":\"#E5ECF6\",\"aaxis\":{\"gridcolor\":\"white\",\"linecolor\":\"white\",\"ticks\":\"\"},\"baxis\":{\"gridcolor\":\"white\",\"linecolor\":\"white\",\"ticks\":\"\"},\"caxis\":{\"gridcolor\":\"white\",\"linecolor\":\"white\",\"ticks\":\"\"}},\"coloraxis\":{\"colorbar\":{\"outlinewidth\":0,\"ticks\":\"\"}},\"colorscale\":{\"sequential\":[[0.0,\"#0d0887\"],[0.1111111111111111,\"#46039f\"],[0.2222222222222222,\"#7201a8\"],[0.3333333333333333,\"#9c179e\"],[0.4444444444444444,\"#bd3786\"],[0.5555555555555556,\"#d8576b\"],[0.6666666666666666,\"#ed7953\"],[0.7777777777777778,\"#fb9f3a\"],[0.8888888888888888,\"#fdca26\"],[1.0,\"#f0f921\"]],\"sequentialminus\":[[0.0,\"#0d0887\"],[0.1111111111111111,\"#46039f\"],[0.2222222222222222,\"#7201a8\"],[0.3333333333333333,\"#9c179e\"],[0.4444444444444444,\"#bd3786\"],[0.5555555555555556,\"#d8576b\"],[0.6666666666666666,\"#ed7953\"],[0.7777777777777778,\"#fb9f3a\"],[0.8888888888888888,\"#fdca26\"],[1.0,\"#f0f921\"]],\"diverging\":[[0,\"#8e0152\"],[0.1,\"#c51b7d\"],[0.2,\"#de77ae\"],[0.3,\"#f1b6da\"],[0.4,\"#fde0ef\"],[0.5,\"#f7f7f7\"],[0.6,\"#e6f5d0\"],[0.7,\"#b8e186\"],[0.8,\"#7fbc41\"],[0.9,\"#4d9221\"],[1,\"#276419\"]]},\"xaxis\":{\"gridcolor\":\"white\",\"linecolor\":\"white\",\"ticks\":\"\",\"title\":{\"standoff\":15},\"zerolinecolor\":\"white\",\"automargin\":true,\"zerolinewidth\":2},\"yaxis\":{\"gridcolor\":\"white\",\"linecolor\":\"white\",\"ticks\":\"\",\"title\":{\"standoff\":15},\"zerolinecolor\":\"white\",\"automargin\":true,\"zerolinewidth\":2},\"scene\":{\"xaxis\":{\"backgroundcolor\":\"#E5ECF6\",\"gridcolor\":\"white\",\"linecolor\":\"white\",\"showbackground\":true,\"ticks\":\"\",\"zerolinecolor\":\"white\",\"gridwidth\":2},\"yaxis\":{\"backgroundcolor\":\"#E5ECF6\",\"gridcolor\":\"white\",\"linecolor\":\"white\",\"showbackground\":true,\"ticks\":\"\",\"zerolinecolor\":\"white\",\"gridwidth\":2},\"zaxis\":{\"backgroundcolor\":\"#E5ECF6\",\"gridcolor\":\"white\",\"linecolor\":\"white\",\"showbackground\":true,\"ticks\":\"\",\"zerolinecolor\":\"white\",\"gridwidth\":2}},\"shapedefaults\":{\"line\":{\"color\":\"#2a3f5f\"}},\"annotationdefaults\":{\"arrowcolor\":\"#2a3f5f\",\"arrowhead\":0,\"arrowwidth\":1},\"geo\":{\"bgcolor\":\"white\",\"landcolor\":\"#E5ECF6\",\"subunitcolor\":\"white\",\"showland\":true,\"showlakes\":true,\"lakecolor\":\"white\"},\"title\":{\"x\":0.05},\"mapbox\":{\"style\":\"light\"}}},\"xaxis\":{\"anchor\":\"y\",\"domain\":[0.0,1.0],\"title\":{\"text\":\"x\"}},\"yaxis\":{\"anchor\":\"x\",\"domain\":[0.0,1.0],\"title\":{\"text\":\"y\"}},\"legend\":{\"tracegroupgap\":0},\"margin\":{\"t\":60}},                        {\"responsive\": true}                    ).then(function(){\n",
              "                            \n",
              "var gd = document.getElementById('c22ef87e-eea3-45f6-a8a0-0ca5b3bae3ca');\n",
              "var x = new MutationObserver(function (mutations, observer) {{\n",
              "        var display = window.getComputedStyle(gd).display;\n",
              "        if (!display || display === 'none') {{\n",
              "            console.log([gd, 'removed!']);\n",
              "            Plotly.purge(gd);\n",
              "            observer.disconnect();\n",
              "        }}\n",
              "}});\n",
              "\n",
              "// Listen for the removal of the full notebook cells\n",
              "var notebookContainer = gd.closest('#notebook-container');\n",
              "if (notebookContainer) {{\n",
              "    x.observe(notebookContainer, {childList: true});\n",
              "}}\n",
              "\n",
              "// Listen for the clearing of the current output cell\n",
              "var outputEl = gd.closest('.output');\n",
              "if (outputEl) {{\n",
              "    x.observe(outputEl, {childList: true});\n",
              "}}\n",
              "\n",
              "                        })                };                            </script>        </div>\n",
              "</body>\n",
              "</html>"
            ]
          },
          "metadata": {}
        }
      ]
    },
    {
      "cell_type": "markdown",
      "source": [
        "##### Pre-defined datasets\n",
        "The torch-vision implements and can automatically retrieve the data of many \"standard\" datasets\n"
      ],
      "metadata": {
        "id": "HONvCrfO6uQo"
      }
    },
    {
      "cell_type": "code",
      "source": [
        "import torchvision\n",
        "imagenet_data = torchvision.datasets.MNIST('path/to/imagenet_root/',download=True )\n",
        "imagenet_data"
      ],
      "metadata": {
        "id": "qQst1j_Q6tLf"
      },
      "execution_count": null,
      "outputs": []
    },
    {
      "cell_type": "markdown",
      "metadata": {
        "id": "ndnx7HJxkvXH"
      },
      "source": [
        "### PyTorch DataLoader"
      ]
    },
    {
      "cell_type": "markdown",
      "source": [
        "\n",
        "[`torch.utils.data.DataLoader`](https://pytorch.org/docs/stable/data.html?highlight=dataloader#torch.utils.data.DataLoader) is an iterator which provides:\n",
        "\n",
        "- Data batching\n",
        "- Data shuffling\n",
        "- Parallel data loading using `multiprocessing` workers. Meaning that while the `GPU` is performing some computation on a batch, in parallel you can load the next batch.\n",
        "\n",
        "\n",
        "Creating a dataloader from a dataset is straightforward, this is one example that highlights some of the most used parameters:"
      ],
      "metadata": {
        "id": "G_peCB8pRTn7"
      }
    },
    {
      "cell_type": "code",
      "metadata": {
        "id": "bNxfH3vayfVx",
        "colab": {
          "base_uri": "https://localhost:8080/"
        },
        "outputId": "e15b6f09-f566-4297-c31f-3e626b89f24c"
      },
      "source": [
        "from torch.utils.data import DataLoader\n",
        "\n",
        "toydataset = ToyDataset(200)\n",
        "toyloader = DataLoader(toydataset,\n",
        "                       batch_size=8,    # number of elements in each batch\n",
        "                       shuffle=True,    # shuffle the dataset\n",
        "                       num_workers=4   # number of workers, i.e. batches to prefetch\n",
        "                       )\n",
        "\n",
        "\n",
        "\n",
        "# extract a batch\n",
        "data = next(iter(toyloader))\n",
        "data"
      ],
      "execution_count": null,
      "outputs": [
        {
          "output_type": "execute_result",
          "data": {
            "text/plain": [
              "{'x': tensor([[ 0.0063],\n",
              "         [-0.2508],\n",
              "         [ 0.4039],\n",
              "         [ 0.4128],\n",
              "         [-0.3152],\n",
              "         [-0.7759],\n",
              "         [ 0.9337],\n",
              "         [-0.1681]]),\n",
              " 'y': tensor([[-0.1338],\n",
              "         [ 0.0571],\n",
              "         [ 0.0225],\n",
              "         [ 0.2114],\n",
              "         [-0.2080],\n",
              "         [-0.4104],\n",
              "         [ 0.8284],\n",
              "         [-0.0836]])}"
            ]
          },
          "metadata": {},
          "execution_count": 51
        }
      ]
    },
    {
      "cell_type": "markdown",
      "metadata": {
        "id": "VmFJ7hRMMFRL"
      },
      "source": [
        "### Model definition and training\n",
        "\n",
        "Pytorch provides the modules ``nn.Module`` and ``nn.Parameter`` for defining your model and training parameters.\n",
        "\n",
        "We subclass ``nn.Module`` (which itself is a class and\n",
        "able to keep track of state).  We create a class that\n",
        "holds our weights, bias, and method for the forward step.  ``nn.Module`` has a\n",
        "number of attributes and methods (such as ``.parameters()`` and ``.zero_grad()``)\n",
        "useful during the training phase.\n"
      ]
    },
    {
      "cell_type": "code",
      "metadata": {
        "id": "L2dUPFzqOKJQ"
      },
      "source": [
        "from torch import nn\n",
        "\n",
        "class Linear(nn.Module):\n",
        "  def __init__(self, input_size, output_size):\n",
        "    super().__init__()\n",
        "    self.weights = nn.Parameter(torch.randn(input_size, output_size)) #initialization\n",
        "    self.bias = nn.Parameter(torch.zeros(output_size))\n",
        "\n",
        "  def forward(self, xb):\n",
        "    return xb @ self.weights + self.bias"
      ],
      "execution_count": null,
      "outputs": []
    },
    {
      "cell_type": "markdown",
      "metadata": {
        "id": "GjgeOoIIOK8Y"
      },
      "source": [
        "Since we're now using an object instead of just using a function, we\n",
        "first have to instantiate our model:\n",
        "\n"
      ]
    },
    {
      "cell_type": "code",
      "metadata": {
        "id": "QW-63GBxOOrM",
        "colab": {
          "base_uri": "https://localhost:8080/"
        },
        "outputId": "0f3560b2-34d7-4fc2-b519-1712a12137cd"
      },
      "source": [
        "model = Linear(1,1)\n",
        "model"
      ],
      "execution_count": null,
      "outputs": [
        {
          "output_type": "execute_result",
          "data": {
            "text/plain": [
              "Linear()"
            ]
          },
          "metadata": {},
          "execution_count": 53
        }
      ]
    },
    {
      "cell_type": "code",
      "source": [
        "model.bias"
      ],
      "metadata": {
        "colab": {
          "base_uri": "https://localhost:8080/"
        },
        "id": "P7EmhzH01SN5",
        "outputId": "c70e092a-e9cc-47cf-adce-2bab92d82552"
      },
      "execution_count": null,
      "outputs": [
        {
          "output_type": "execute_result",
          "data": {
            "text/plain": [
              "Parameter containing:\n",
              "tensor([0.], requires_grad=True)"
            ]
          },
          "metadata": {},
          "execution_count": 54
        }
      ]
    },
    {
      "cell_type": "code",
      "source": [
        "data = next(iter(toyloader))\n",
        "model(data['x'])"
      ],
      "metadata": {
        "colab": {
          "base_uri": "https://localhost:8080/"
        },
        "id": "68IuFvgD1mlr",
        "outputId": "af41800b-3881-4d10-fd9b-f71a0cc502c0"
      },
      "execution_count": null,
      "outputs": [
        {
          "output_type": "execute_result",
          "data": {
            "text/plain": [
              "tensor([[-0.6728],\n",
              "        [-0.8787],\n",
              "        [ 0.8453],\n",
              "        [-1.8368],\n",
              "        [ 0.6164],\n",
              "        [-1.7459],\n",
              "        [-0.1788],\n",
              "        [-0.9018]], grad_fn=<AddBackward0>)"
            ]
          },
          "metadata": {},
          "execution_count": 55
        }
      ]
    },
    {
      "cell_type": "code",
      "source": [
        "import matplotlib.pyplot as plt\n",
        "plt.scatter(x=toydataset.x[:,0].numpy(), y=toydataset.y[:,0].numpy())\n",
        "\n",
        "x_test = torch.linspace(-1,1,100)\n",
        "\n",
        "model.eval() #we put the model on evaluation and disable gradient computation\n",
        "with torch.no_grad():\n",
        "  y_pred = model(x_test[:,None])\n",
        "  plt.scatter(x=x_test.cpu().numpy(), y=y_pred[:,0].cpu().numpy())\n",
        "plt.show()\n"
      ],
      "metadata": {
        "colab": {
          "base_uri": "https://localhost:8080/",
          "height": 430
        },
        "id": "hm9oYH-R2N1s",
        "outputId": "526a7f45-6ac8-4a9f-990d-aa2f6c651716"
      },
      "execution_count": null,
      "outputs": [
        {
          "output_type": "display_data",
          "data": {
            "text/plain": [
              "<Figure size 640x480 with 1 Axes>"
            ],
            "image/png": "[encoded data removed]"
          },
          "metadata": {}
        }
      ]
    },
    {
      "cell_type": "markdown",
      "metadata": {
        "id": "ro2IHPQBOSu-"
      },
      "source": [
        "Now we can define and calculate the loss to be minimized during our training. Note that\n",
        "``nn.Module`` objects are used as if they are functions (i.e they are\n",
        "*callable*), but behind the scenes Pytorch will call our ``forward``\n",
        "method automatically.\n",
        "\n",
        "> The `__call__` method of the Modules, internally calls the `forward` method and *does other stuff* (e.g. registers some hooks, you can check the implementation [here](https://pytorch.org/docs/stable/_modules/torch/nn/modules/module.html#Module)). Thus, you should always call the forward with `model(inputs)` and never directly the forward `model.forward(inputs)`."
      ]
    },
    {
      "cell_type": "code",
      "metadata": {
        "id": "Wf2E-zpGOVeq",
        "colab": {
          "base_uri": "https://localhost:8080/"
        },
        "outputId": "3f8dd5f2-4b43-495d-aa7e-9be0221d0ab5"
      },
      "source": [
        "def loss_func(real_y, pred_y):\n",
        "  return ((pred_y-real_y)**2).mean()\n",
        "\n",
        "data = next(iter(toyloader))\n",
        "print(loss_func(model(data['x']), data['y']))"
      ],
      "execution_count": null,
      "outputs": [
        {
          "output_type": "stream",
          "name": "stdout",
          "text": [
            "tensor(1.0383, grad_fn=<MeanBackward0>)\n"
          ]
        }
      ]
    },
    {
      "cell_type": "markdown",
      "metadata": {
        "id": "qZIQ7m6zOWkp"
      },
      "source": [
        "We can take advantage of `model.parameters()` and `model.zero_grad()` (which are both defined by PyTorch for ``nn.Module``) to optimize the parameters of our model by implementing a simple gradient descent scheme.\n",
        "\n",
        "```python\n",
        "  with torch.no_grad():\n",
        "      for p in model.parameters(): p -= p.grad * lr\n",
        "      model.zero_grad()\n",
        "```"
      ]
    },
    {
      "cell_type": "code",
      "metadata": {
        "id": "yXXDTXEcOmnG",
        "colab": {
          "base_uri": "https://localhost:8080/"
        },
        "outputId": "f81932bb-7c40-4b32-dcc1-10c821bcc311"
      },
      "source": [
        "#REMEMBER: to use GPU computation you need to move both your model and data to the cuda device\n",
        "device = 'cuda'\n",
        "model.to(device)\n",
        "\n",
        "#training loop\n",
        "epochs=20\n",
        "lr=1e-2\n",
        "for epoch in range(epochs):\n",
        "  total_loss = 0\n",
        "  for data in toyloader:\n",
        "    xb = data['x'].to(device) # <- move to device\n",
        "    yb = data['y'].to(device) # <- move to device\n",
        "    pred = model(xb)\n",
        "    loss = loss_func(pred, yb)\n",
        "    total_loss += loss.item() # detach from gradient computation\n",
        "\n",
        "    loss.backward() # compute the gradient of the model parameters w.r.t. the loss function\n",
        "    with torch.no_grad():\n",
        "      for p in model.parameters():\n",
        "        p -= p.grad * lr\n",
        "      model.zero_grad()\n",
        "\n",
        "  print(total_loss/len(toyloader.dataset))\n"
      ],
      "execution_count": null,
      "outputs": [
        {
          "output_type": "stream",
          "name": "stdout",
          "text": [
            "0.08277313515543938\n",
            "0.061876220256090166\n",
            "0.0465359178930521\n",
            "0.03527954675257206\n",
            "0.026994042024016382\n",
            "0.02090007685124874\n",
            "0.016435241885483266\n",
            "0.013104401268064976\n",
            "0.010658051744103432\n",
            "0.008845603112131357\n",
            "0.007523007374256849\n",
            "0.006542464345693588\n",
            "0.005813729790970683\n",
            "0.005290271891281009\n",
            "0.004891936392523348\n",
            "0.004604044295847416\n",
            "0.0043872350035235284\n",
            "0.004231886612251401\n",
            "0.004112901925109327\n",
            "0.0040272192424163225\n"
          ]
        }
      ]
    },
    {
      "cell_type": "code",
      "source": [
        "import matplotlib.pyplot as plt\n",
        "plt.scatter(x=toydataset.x[:,0].numpy(), y=toydataset.y[:,0].numpy())\n",
        "\n",
        "x_test = torch.linspace(-1,1,100).to(device)\n",
        "\n",
        "model.eval() #we put the model on evaluation and disable gradient computation\n",
        "with torch.no_grad():\n",
        "  y_pred = model(x_test[:,None])\n",
        "  plt.scatter(x=x_test.cpu().numpy(), y=y_pred[:,0].cpu().numpy())\n",
        "plt.show()\n"
      ],
      "metadata": {
        "colab": {
          "base_uri": "https://localhost:8080/",
          "height": 430
        },
        "id": "X6pLljlLJGEk",
        "outputId": "bb3a47ab-3b59-43f8-c028-831b5eb7b49f"
      },
      "execution_count": null,
      "outputs": [
        {
          "output_type": "display_data",
          "data": {
            "text/plain": [
              "<Figure size 640x480 with 1 Axes>"
            ],
            "image/png": "[encoded data removed]"
          },
          "metadata": {}
        }
      ]
    },
    {
      "cell_type": "markdown",
      "metadata": {
        "id": "nMdlDhLCYQzW"
      },
      "source": [
        "### The torch.nn module and torch.optim\n",
        "\n",
        "``torch.nn`` already defines basic NN layers and simple NN structures:\n",
        "- ``nn.Linear`` defines a linear layer\n",
        "- ``nn.ReLU``   defines a layer that implements the ReLU operator\n",
        "- ``nn.Sequential`` object runs each of the modules contained within it, in a sequential manner. This is a simpler way of writing our neural network.\n"
      ]
    },
    {
      "cell_type": "code",
      "metadata": {
        "id": "PEwvSOXBaOSu",
        "colab": {
          "base_uri": "https://localhost:8080/"
        },
        "outputId": "fad7742b-c1c5-4684-b1ce-6f24feacb196"
      },
      "source": [
        "model = nn.Sequential(\n",
        "  nn.Linear(1, 8),\n",
        "  nn.ReLU(),\n",
        "  nn.Linear(8, 8),\n",
        "  nn.ReLU(),\n",
        "  nn.Linear(8, 1))\n",
        "\n",
        "model"
      ],
      "execution_count": null,
      "outputs": [
        {
          "output_type": "execute_result",
          "data": {
            "text/plain": [
              "Sequential(\n",
              "  (0): Linear(in_features=1, out_features=8, bias=True)\n",
              "  (1): ReLU()\n",
              "  (2): Linear(in_features=8, out_features=8, bias=True)\n",
              "  (3): ReLU()\n",
              "  (4): Linear(in_features=8, out_features=1, bias=True)\n",
              ")"
            ]
          },
          "metadata": {},
          "execution_count": 60
        }
      ]
    },
    {
      "cell_type": "markdown",
      "source": [
        "``torch.optim`` defines some advanced optimizers, as the ADAM optimizer with first and second order momentum. Once instantiated and attached to the model parameters, we can use the step method to take a forward step, instead of manually updating each parameter.\n"
      ],
      "metadata": {
        "id": "2vgHd8c-Ig_s"
      }
    },
    {
      "cell_type": "code",
      "source": [
        "opt = torch.optim.Adam(model.parameters(), lr=lr)"
      ],
      "metadata": {
        "id": "skK-JodwIjag"
      },
      "execution_count": null,
      "outputs": []
    },
    {
      "cell_type": "code",
      "source": [
        "for epoch in range(epochs):\n",
        "  total_loss = 0\n",
        "  for data in toyloader:\n",
        "    xb = data['x']\n",
        "    yb = data['y']\n",
        "    pred = model(xb)\n",
        "    loss = loss_func(pred, yb)\n",
        "    total_loss += loss.item() # detach from gradient computation\n",
        "\n",
        "    loss.backward() # compute the gradient of the model parameters w.r.t. the loss function\n",
        "    opt.step() #<----------\n",
        "    opt.zero_grad()\n",
        "\n",
        "  print(total_loss/len(toyloader.dataset))"
      ],
      "metadata": {
        "colab": {
          "base_uri": "https://localhost:8080/"
        },
        "id": "al0ox5eSItwR",
        "outputId": "371977a5-7d05-4048-f935-83f3d51f9e54"
      },
      "execution_count": null,
      "outputs": [
        {
          "output_type": "stream",
          "name": "stdout",
          "text": [
            "0.023996607568114996\n",
            "0.010636822255328297\n",
            "0.004642212307080626\n",
            "0.0036584886536002157\n",
            "0.002402118230238557\n",
            "0.002087303807493299\n",
            "0.0019227536348626019\n",
            "0.0015707014850340783\n",
            "0.0018459809059277177\n",
            "0.0016842581355012954\n",
            "0.0014178828429430724\n",
            "0.0014085977233480663\n",
            "0.0014846916811075061\n",
            "0.0018650558940134943\n",
            "0.0015616629377473146\n",
            "0.0017256125714629888\n",
            "0.001697177531896159\n",
            "0.0015493814693763853\n",
            "0.0017456222977489232\n",
            "0.0014823735831305384\n"
          ]
        }
      ]
    },
    {
      "cell_type": "code",
      "source": [
        "import matplotlib.pyplot as plt\n",
        "plt.scatter(x=toydataset.x[:,0].numpy(), y=toydataset.y[:,0].numpy())\n",
        "\n",
        "x_test = torch.linspace(-1,1,100)\n",
        "\n",
        "model.eval() #we put the model on evaluation and disable gradient computation\n",
        "with torch.no_grad():\n",
        "  y_pred = model(x_test[:,None])\n",
        "  plt.scatter(x=x_test.numpy(), y=y_pred[:,0].numpy())\n",
        "plt.show()\n"
      ],
      "metadata": {
        "colab": {
          "base_uri": "https://localhost:8080/",
          "height": 430
        },
        "id": "DptEyLu6KorM",
        "outputId": "989e8941-a66c-494b-ee88-9e3826304be0"
      },
      "execution_count": null,
      "outputs": [
        {
          "output_type": "display_data",
          "data": {
            "text/plain": [
              "<Figure size 640x480 with 1 Axes>"
            ],
            "image/png": "[encoded data removed]"
          },
          "metadata": {}
        }
      ]
    }
  ]
}